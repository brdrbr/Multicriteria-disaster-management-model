{
 "cells": [
  {
   "cell_type": "markdown",
   "id": "5c285ba0",
   "metadata": {},
   "source": [
    "# Multicriteria Disaster Response Problem"
   ]
  },
  {
   "cell_type": "markdown",
   "id": "d06b08c0",
   "metadata": {},
   "source": [
    "## Data Reader"
   ]
  },
  {
   "cell_type": "markdown",
   "id": "0ad34774",
   "metadata": {},
   "source": [
    "### Libraries"
   ]
  },
  {
   "cell_type": "code",
   "execution_count": 1,
   "id": "568bf695",
   "metadata": {},
   "outputs": [],
   "source": [
    "import pandas as pd\n",
    "import numpy as np\n",
    "\n",
    "pd.set_option('display.max_rows', None)\n",
    "pd.set_option('display.max_columns', None)"
   ]
  },
  {
   "cell_type": "markdown",
   "id": "522b57a0",
   "metadata": {},
   "source": [
    "### Reading the Data"
   ]
  },
  {
   "cell_type": "code",
   "execution_count": 86,
   "id": "9b1ff16d",
   "metadata": {},
   "outputs": [],
   "source": [
    "directory = \"/Users/yasemin/Desktop/sample_disaster_data.xlsx\"\n",
    "#directory = \"/Users/yasemin/Desktop/avcilar_final_data.xlsx\""
   ]
  },
  {
   "cell_type": "code",
   "execution_count": 87,
   "id": "10d23280",
   "metadata": {},
   "outputs": [],
   "source": [
    "dataframe = pd.read_excel(open(directory, 'rb'), \n",
    "                   sheet_name='Part of Avcilar', \n",
    "                   engine='openpyxl')[:121] # for eliminating unnecessary parts"
   ]
  },
  {
   "cell_type": "code",
   "execution_count": 88,
   "id": "fa598ebf",
   "metadata": {},
   "outputs": [
    {
     "data": {
      "text/html": [
       "<div>\n",
       "<style scoped>\n",
       "    .dataframe tbody tr th:only-of-type {\n",
       "        vertical-align: middle;\n",
       "    }\n",
       "\n",
       "    .dataframe tbody tr th {\n",
       "        vertical-align: top;\n",
       "    }\n",
       "\n",
       "    .dataframe thead th {\n",
       "        text-align: right;\n",
       "    }\n",
       "</style>\n",
       "<table border=\"1\" class=\"dataframe\">\n",
       "  <thead>\n",
       "    <tr style=\"text-align: right;\">\n",
       "      <th></th>\n",
       "      <th>inside</th>\n",
       "      <th>out</th>\n",
       "      <th>B</th>\n",
       "      <th>supply_t0</th>\n",
       "      <th>supply_t1</th>\n",
       "      <th>supply_t2</th>\n",
       "      <th>supply_t3</th>\n",
       "      <th>supply_t4</th>\n",
       "      <th>supply_t5</th>\n",
       "      <th>supply_t6</th>\n",
       "      <th>demand_t0</th>\n",
       "      <th>demand_t1</th>\n",
       "      <th>demand_t2</th>\n",
       "      <th>demand_t3</th>\n",
       "      <th>demand_t4</th>\n",
       "      <th>demand_t5</th>\n",
       "      <th>demand_t6</th>\n",
       "      <th>cost</th>\n",
       "      <th>capacity</th>\n",
       "      <th>blocked</th>\n",
       "      <th>rest_demand_t0</th>\n",
       "      <th>rest_demand_t1</th>\n",
       "      <th>rest_demand_t2</th>\n",
       "      <th>rest_demand_t3</th>\n",
       "      <th>rest_demand_t4</th>\n",
       "      <th>rest_demand_t5</th>\n",
       "      <th>rest_demand_t6</th>\n",
       "      <th>road_restoration_supply</th>\n",
       "    </tr>\n",
       "  </thead>\n",
       "  <tbody>\n",
       "    <tr>\n",
       "      <th>0</th>\n",
       "      <td>1</td>\n",
       "      <td>1</td>\n",
       "      <td>1</td>\n",
       "      <td>150</td>\n",
       "      <td>152</td>\n",
       "      <td>303</td>\n",
       "      <td>455</td>\n",
       "      <td>606</td>\n",
       "      <td>758</td>\n",
       "      <td>909</td>\n",
       "      <td>0</td>\n",
       "      <td>0</td>\n",
       "      <td>0</td>\n",
       "      <td>0</td>\n",
       "      <td>0</td>\n",
       "      <td>0.0</td>\n",
       "      <td>0</td>\n",
       "      <td>999999999</td>\n",
       "      <td>0</td>\n",
       "      <td>0</td>\n",
       "      <td>23</td>\n",
       "      <td>90</td>\n",
       "      <td>29</td>\n",
       "      <td>29</td>\n",
       "      <td>20</td>\n",
       "      <td>60</td>\n",
       "      <td>89</td>\n",
       "      <td>500.0</td>\n",
       "    </tr>\n",
       "    <tr>\n",
       "      <th>1</th>\n",
       "      <td>1</td>\n",
       "      <td>2</td>\n",
       "      <td>0</td>\n",
       "      <td>200</td>\n",
       "      <td>202</td>\n",
       "      <td>404</td>\n",
       "      <td>606</td>\n",
       "      <td>808</td>\n",
       "      <td>1010</td>\n",
       "      <td>1212</td>\n",
       "      <td>0</td>\n",
       "      <td>0</td>\n",
       "      <td>0</td>\n",
       "      <td>0</td>\n",
       "      <td>0</td>\n",
       "      <td>0.0</td>\n",
       "      <td>0</td>\n",
       "      <td>5</td>\n",
       "      <td>50</td>\n",
       "      <td>1</td>\n",
       "      <td>70</td>\n",
       "      <td>13</td>\n",
       "      <td>29</td>\n",
       "      <td>8</td>\n",
       "      <td>83</td>\n",
       "      <td>94</td>\n",
       "      <td>78</td>\n",
       "      <td>NaN</td>\n",
       "    </tr>\n",
       "    <tr>\n",
       "      <th>2</th>\n",
       "      <td>1</td>\n",
       "      <td>3</td>\n",
       "      <td>0</td>\n",
       "      <td>250</td>\n",
       "      <td>253</td>\n",
       "      <td>505</td>\n",
       "      <td>758</td>\n",
       "      <td>1010</td>\n",
       "      <td>1263</td>\n",
       "      <td>1515</td>\n",
       "      <td>0</td>\n",
       "      <td>0</td>\n",
       "      <td>0</td>\n",
       "      <td>0</td>\n",
       "      <td>0</td>\n",
       "      <td>0.0</td>\n",
       "      <td>0</td>\n",
       "      <td>20</td>\n",
       "      <td>50</td>\n",
       "      <td>1</td>\n",
       "      <td>54</td>\n",
       "      <td>38</td>\n",
       "      <td>88</td>\n",
       "      <td>76</td>\n",
       "      <td>90</td>\n",
       "      <td>70</td>\n",
       "      <td>96</td>\n",
       "      <td>NaN</td>\n",
       "    </tr>\n",
       "    <tr>\n",
       "      <th>3</th>\n",
       "      <td>2</td>\n",
       "      <td>1</td>\n",
       "      <td>0</td>\n",
       "      <td>0</td>\n",
       "      <td>0</td>\n",
       "      <td>0</td>\n",
       "      <td>0</td>\n",
       "      <td>0</td>\n",
       "      <td>0</td>\n",
       "      <td>0</td>\n",
       "      <td>150</td>\n",
       "      <td>217</td>\n",
       "      <td>233</td>\n",
       "      <td>236</td>\n",
       "      <td>237</td>\n",
       "      <td>238.0</td>\n",
       "      <td>238</td>\n",
       "      <td>1</td>\n",
       "      <td>50</td>\n",
       "      <td>1</td>\n",
       "      <td>41</td>\n",
       "      <td>33</td>\n",
       "      <td>80</td>\n",
       "      <td>8</td>\n",
       "      <td>27</td>\n",
       "      <td>36</td>\n",
       "      <td>75</td>\n",
       "      <td>NaN</td>\n",
       "    </tr>\n",
       "    <tr>\n",
       "      <th>4</th>\n",
       "      <td>2</td>\n",
       "      <td>2</td>\n",
       "      <td>1</td>\n",
       "      <td>0</td>\n",
       "      <td>0</td>\n",
       "      <td>0</td>\n",
       "      <td>0</td>\n",
       "      <td>0</td>\n",
       "      <td>0</td>\n",
       "      <td>0</td>\n",
       "      <td>100</td>\n",
       "      <td>200</td>\n",
       "      <td>230</td>\n",
       "      <td>236</td>\n",
       "      <td>237</td>\n",
       "      <td>238.0</td>\n",
       "      <td>239</td>\n",
       "      <td>999999999</td>\n",
       "      <td>0</td>\n",
       "      <td>0</td>\n",
       "      <td>80</td>\n",
       "      <td>30</td>\n",
       "      <td>25</td>\n",
       "      <td>97</td>\n",
       "      <td>33</td>\n",
       "      <td>16</td>\n",
       "      <td>37</td>\n",
       "      <td>NaN</td>\n",
       "    </tr>\n",
       "  </tbody>\n",
       "</table>\n",
       "</div>"
      ],
      "text/plain": [
       "   inside  out  B  supply_t0  supply_t1  supply_t2  supply_t3  supply_t4  \\\n",
       "0       1    1  1        150        152        303        455        606   \n",
       "1       1    2  0        200        202        404        606        808   \n",
       "2       1    3  0        250        253        505        758       1010   \n",
       "3       2    1  0          0          0          0          0          0   \n",
       "4       2    2  1          0          0          0          0          0   \n",
       "\n",
       "   supply_t5  supply_t6  demand_t0  demand_t1  demand_t2  demand_t3  \\\n",
       "0        758        909          0          0          0          0   \n",
       "1       1010       1212          0          0          0          0   \n",
       "2       1263       1515          0          0          0          0   \n",
       "3          0          0        150        217        233        236   \n",
       "4          0          0        100        200        230        236   \n",
       "\n",
       "   demand_t4  demand_t5  demand_t6       cost  capacity  blocked  \\\n",
       "0          0        0.0          0  999999999         0        0   \n",
       "1          0        0.0          0          5        50        1   \n",
       "2          0        0.0          0         20        50        1   \n",
       "3        237      238.0        238          1        50        1   \n",
       "4        237      238.0        239  999999999         0        0   \n",
       "\n",
       "   rest_demand_t0  rest_demand_t1  rest_demand_t2  rest_demand_t3  \\\n",
       "0              23              90              29              29   \n",
       "1              70              13              29               8   \n",
       "2              54              38              88              76   \n",
       "3              41              33              80               8   \n",
       "4              80              30              25              97   \n",
       "\n",
       "   rest_demand_t4  rest_demand_t5  rest_demand_t6  road_restoration_supply  \n",
       "0              20              60              89                    500.0  \n",
       "1              83              94              78                      NaN  \n",
       "2              90              70              96                      NaN  \n",
       "3              27              36              75                      NaN  \n",
       "4              33              16              37                      NaN  "
      ]
     },
     "execution_count": 88,
     "metadata": {},
     "output_type": "execute_result"
    }
   ],
   "source": [
    "dataframe.head()"
   ]
  },
  {
   "cell_type": "markdown",
   "id": "c4b4952e",
   "metadata": {},
   "source": [
    "### Initial definitions"
   ]
  },
  {
   "cell_type": "code",
   "execution_count": 89,
   "id": "dc2b7a01",
   "metadata": {},
   "outputs": [],
   "source": [
    "period_including_supply_columns = [col for col in dataframe.columns if \"supply_t\" in col]\n",
    "time_list = []\n",
    "periods = []\n",
    "for column in period_including_supply_columns:\n",
    "    time_list.append(int(column[8:]))\n",
    "    periods.append(column[7:])\n",
    "    \n",
    "T = max(time_list) # 7 days\n",
    "K = 1 # 1 commodity\n",
    "N = len(np.unique(list(dataframe.inside))) # total number of nodes\n",
    "\n",
    "supplies = dataframe[(f\"supply_{i}\" for i in periods)].sum(axis=1)\n",
    "demands = dataframe[(f\"demand_{i}\" for i in periods)].sum(axis=1)"
   ]
  },
  {
   "cell_type": "code",
   "execution_count": 90,
   "id": "5f3bd5c9",
   "metadata": {},
   "outputs": [],
   "source": [
    "total_values = pd.concat([dataframe.inside, supplies, demands],axis=1)\n",
    "total_values.columns = [\"inside\",\"total_supply\",\"total_demand\"]"
   ]
  },
  {
   "cell_type": "code",
   "execution_count": 91,
   "id": "3e25638b",
   "metadata": {},
   "outputs": [],
   "source": [
    "nS = np.unique(list(total_values[(total_values.total_supply > 0)].inside.astype(int))) # supply node set\n",
    "nD = np.unique(list(total_values[(total_values.total_demand > 0)].inside.astype(int))) # demand node set\n",
    "nN = np.unique(list(total_values.inside)) # total node set\n",
    "\n",
    "nT = time_list.copy()\n",
    "nK = [0]"
   ]
  },
  {
   "cell_type": "code",
   "execution_count": 92,
   "id": "29029be7",
   "metadata": {},
   "outputs": [],
   "source": [
    "edge_dict = {}\n",
    "for row in dataframe.iterrows():\n",
    "    edge_dict[int(float(str(int(float(str(row[1].inside)))) + str(int(float(str(row[1].out))))))] = [int(float(row[1].inside)), int(float(row[1].out))]"
   ]
  },
  {
   "cell_type": "code",
   "execution_count": 93,
   "id": "ac280b1b",
   "metadata": {},
   "outputs": [],
   "source": [
    "nE = list(edge_dict.keys())\n",
    "B = list(dataframe.B)"
   ]
  },
  {
   "cell_type": "markdown",
   "id": "d3d1e8a2",
   "metadata": {},
   "source": [
    "### Supplies"
   ]
  },
  {
   "cell_type": "code",
   "execution_count": 94,
   "id": "ed35a3a1",
   "metadata": {},
   "outputs": [],
   "source": [
    "Sikt = []\n",
    "for i in range(T+1):\n",
    "    Sikt.append([])\n",
    "    for j in range(K):\n",
    "        Sikt[i].append({})"
   ]
  },
  {
   "cell_type": "code",
   "execution_count": 95,
   "id": "fc18f366",
   "metadata": {},
   "outputs": [],
   "source": [
    "for t in range(T+1):\n",
    "    for k in range(K):\n",
    "        for n in nN:\n",
    "            Sikt[t][k][n] = int(sum(np.unique(dataframe.loc[dataframe.inside == n, f\"supply_t{t}\"])))"
   ]
  },
  {
   "cell_type": "code",
   "execution_count": 96,
   "id": "37b4d0a0",
   "metadata": {},
   "outputs": [
    {
     "data": {
      "text/plain": [
       "[[{1: 600, 2: 0, 3: 0}],\n",
       " [{1: 607, 2: 0, 3: 0}],\n",
       " [{1: 1212, 2: 0, 3: 0}],\n",
       " [{1: 1819, 2: 0, 3: 0}],\n",
       " [{1: 2424, 2: 0, 3: 0}],\n",
       " [{1: 3031, 2: 0, 3: 0}],\n",
       " [{1: 3636, 2: 0, 3: 0}]]"
      ]
     },
     "execution_count": 96,
     "metadata": {},
     "output_type": "execute_result"
    }
   ],
   "source": [
    "Sikt"
   ]
  },
  {
   "cell_type": "markdown",
   "id": "feb9e4a3",
   "metadata": {},
   "source": [
    "### Demands"
   ]
  },
  {
   "cell_type": "code",
   "execution_count": 97,
   "id": "6bb0caa3",
   "metadata": {},
   "outputs": [],
   "source": [
    "djkt = []\n",
    "for i in range(T+1):\n",
    "    djkt.append([])\n",
    "    for j in range(K):\n",
    "        djkt[i].append({})"
   ]
  },
  {
   "cell_type": "code",
   "execution_count": 98,
   "id": "d0e8bfe0",
   "metadata": {},
   "outputs": [],
   "source": [
    "for t in range(T+1):\n",
    "    for k in range(K):\n",
    "        for n in nN:\n",
    "            djkt[t][k][n] = int(sum(np.unique(dataframe.loc[dataframe.inside == n, f\"demand_t{t}\"])))"
   ]
  },
  {
   "cell_type": "code",
   "execution_count": 99,
   "id": "7e5e8030",
   "metadata": {},
   "outputs": [
    {
     "data": {
      "text/plain": [
       "[[{1: 0, 2: 300, 3: 296}],\n",
       " [{1: 0, 2: 586, 3: 565}],\n",
       " [{1: 0, 2: 686, 3: 681}],\n",
       " [{1: 0, 2: 470, 3: 471}],\n",
       " [{1: 0, 2: 237, 3: 237}],\n",
       " [{1: 0, 2: 475, 3: 712}],\n",
       " [{1: 0, 2: 477, 3: 477}]]"
      ]
     },
     "execution_count": 99,
     "metadata": {},
     "output_type": "execute_result"
    }
   ],
   "source": [
    "djkt"
   ]
  },
  {
   "cell_type": "markdown",
   "id": "748d27e2",
   "metadata": {},
   "source": [
    "### Edge Capacities"
   ]
  },
  {
   "cell_type": "code",
   "execution_count": 100,
   "id": "37912fc2",
   "metadata": {},
   "outputs": [],
   "source": [
    "uijt = []\n",
    "for t in range(T+1):\n",
    "    uijt.append({})"
   ]
  },
  {
   "cell_type": "code",
   "execution_count": 101,
   "id": "8866d941",
   "metadata": {},
   "outputs": [],
   "source": [
    "for t in range(T+1):\n",
    "    for n in nD:\n",
    "        \n",
    "        dataframe[\"edge\"] = dataframe[\"inside\"].astype(int).astype(str)\\\n",
    "        + dataframe[\"out\"].astype(int).astype(str)\n",
    "        \n",
    "        edges = list(edge_dict.keys()) #list(dataframe.loc[dataframe.inside == n, \"edge\"])\n",
    "        \n",
    "        for edge in edges:\n",
    "            #if str(edge).find(str(n)[:-2]) == 0:\n",
    "            uijt[t][edge] = int(dataframe.loc[dataframe.edge == str(edge), \"capacity\"].unique())"
   ]
  },
  {
   "cell_type": "code",
   "execution_count": 102,
   "id": "02befd2e",
   "metadata": {},
   "outputs": [
    {
     "data": {
      "text/plain": [
       "[{11: 0, 12: 50, 13: 50, 21: 50, 22: 0, 23: 50, 31: 50, 32: 50, 33: 0},\n",
       " {11: 0, 12: 50, 13: 50, 21: 50, 22: 0, 23: 50, 31: 50, 32: 50, 33: 0},\n",
       " {11: 0, 12: 50, 13: 50, 21: 50, 22: 0, 23: 50, 31: 50, 32: 50, 33: 0},\n",
       " {11: 0, 12: 50, 13: 50, 21: 50, 22: 0, 23: 50, 31: 50, 32: 50, 33: 0},\n",
       " {11: 0, 12: 50, 13: 50, 21: 50, 22: 0, 23: 50, 31: 50, 32: 50, 33: 0},\n",
       " {11: 0, 12: 50, 13: 50, 21: 50, 22: 0, 23: 50, 31: 50, 32: 50, 33: 0},\n",
       " {11: 0, 12: 50, 13: 50, 21: 50, 22: 0, 23: 50, 31: 50, 32: 50, 33: 0}]"
      ]
     },
     "execution_count": 102,
     "metadata": {},
     "output_type": "execute_result"
    }
   ],
   "source": [
    "uijt"
   ]
  },
  {
   "cell_type": "code",
   "execution_count": 103,
   "id": "c71c1cc9",
   "metadata": {},
   "outputs": [],
   "source": [
    "dataframe.capacity.fillna(0, inplace=True)"
   ]
  },
  {
   "cell_type": "markdown",
   "id": "83395652",
   "metadata": {},
   "source": [
    "### Costs"
   ]
  },
  {
   "cell_type": "code",
   "execution_count": 104,
   "id": "4be7c3ed",
   "metadata": {},
   "outputs": [],
   "source": [
    "Cijkt = []\n",
    "for i in range(T+1):\n",
    "    Cijkt.append([])\n",
    "    for j in range(K):\n",
    "        Cijkt[i].append({})"
   ]
  },
  {
   "cell_type": "code",
   "execution_count": 105,
   "id": "a24ad45c",
   "metadata": {},
   "outputs": [],
   "source": [
    "for t in range(T+1):\n",
    "    for n in nN:\n",
    "        for edge in list(edge_dict.keys()):\n",
    "            if str(edge).find(str(int(n))) == 0:\n",
    "                Cijkt[t][0][edge] = int(dataframe.loc[dataframe.edge == str(edge), \"cost\"].unique())"
   ]
  },
  {
   "cell_type": "markdown",
   "id": "39abd4ea",
   "metadata": {},
   "source": [
    "### Blocked Information"
   ]
  },
  {
   "cell_type": "code",
   "execution_count": 106,
   "id": "00aed275",
   "metadata": {},
   "outputs": [],
   "source": [
    "blocked = []\n",
    "for i in range(T+1):\n",
    "    blocked.append({})"
   ]
  },
  {
   "cell_type": "code",
   "execution_count": 107,
   "id": "4e6b4eaf",
   "metadata": {},
   "outputs": [],
   "source": [
    "for t in range(T+1):\n",
    "    for edge in list(edge_dict.keys()):\n",
    "        blocked[t][edge] = int(np.unique(dataframe.loc[dataframe.edge == str(edge), \"blocked\"]))"
   ]
  },
  {
   "cell_type": "code",
   "execution_count": 108,
   "id": "cb14266a",
   "metadata": {},
   "outputs": [
    {
     "data": {
      "text/plain": [
       "[{11: 0, 12: 1, 13: 1, 21: 1, 22: 0, 23: 1, 31: 1, 32: 1, 33: 0},\n",
       " {11: 0, 12: 1, 13: 1, 21: 1, 22: 0, 23: 1, 31: 1, 32: 1, 33: 0},\n",
       " {11: 0, 12: 1, 13: 1, 21: 1, 22: 0, 23: 1, 31: 1, 32: 1, 33: 0},\n",
       " {11: 0, 12: 1, 13: 1, 21: 1, 22: 0, 23: 1, 31: 1, 32: 1, 33: 0},\n",
       " {11: 0, 12: 1, 13: 1, 21: 1, 22: 0, 23: 1, 31: 1, 32: 1, 33: 0},\n",
       " {11: 0, 12: 1, 13: 1, 21: 1, 22: 0, 23: 1, 31: 1, 32: 1, 33: 0},\n",
       " {11: 0, 12: 1, 13: 1, 21: 1, 22: 0, 23: 1, 31: 1, 32: 1, 33: 0}]"
      ]
     },
     "execution_count": 108,
     "metadata": {},
     "output_type": "execute_result"
    }
   ],
   "source": [
    "blocked"
   ]
  },
  {
   "cell_type": "markdown",
   "id": "256071b3",
   "metadata": {},
   "source": [
    "### Restoration supply"
   ]
  },
  {
   "cell_type": "code",
   "execution_count": 109,
   "id": "8647b97d",
   "metadata": {},
   "outputs": [],
   "source": [
    "# Number of resources needed to restore blocked arc (i,j)\n",
    "bt = []\n",
    "for t in range(T+1):\n",
    "    bt.append([])"
   ]
  },
  {
   "cell_type": "code",
   "execution_count": 110,
   "id": "4032f100",
   "metadata": {},
   "outputs": [],
   "source": [
    "# TODO: This will depend on the previous used supply\n",
    "for t in range(T+1):\n",
    "    bt[t] = int(np.unique(dataframe[\"road_restoration_supply\"].fillna(0).sum()))"
   ]
  },
  {
   "cell_type": "code",
   "execution_count": 111,
   "id": "5f1f8802",
   "metadata": {},
   "outputs": [
    {
     "data": {
      "text/plain": [
       "[500, 500, 500, 500, 500, 500, 500]"
      ]
     },
     "execution_count": 111,
     "metadata": {},
     "output_type": "execute_result"
    }
   ],
   "source": [
    "bt"
   ]
  },
  {
   "cell_type": "markdown",
   "id": "de310694",
   "metadata": {},
   "source": [
    "### Restoration demand"
   ]
  },
  {
   "cell_type": "code",
   "execution_count": 112,
   "id": "6fdc320a",
   "metadata": {},
   "outputs": [],
   "source": [
    "aij = []\n",
    "for i in range(T+1):\n",
    "    aij.append([])\n",
    "    for j in range(K):\n",
    "        aij[i].append({})"
   ]
  },
  {
   "cell_type": "code",
   "execution_count": 113,
   "id": "19627f5a",
   "metadata": {},
   "outputs": [],
   "source": [
    "for t in range(T+1):\n",
    "    for k in range(K):\n",
    "        for n in nN:\n",
    "            aij[t][k][n] = int(sum((dataframe[f\"rest_demand_t{t}\"])))"
   ]
  },
  {
   "cell_type": "code",
   "execution_count": 114,
   "id": "ea585123",
   "metadata": {},
   "outputs": [
    {
     "data": {
      "text/plain": [
       "[[{1: 604, 2: 604, 3: 604}],\n",
       " [{1: 454, 2: 454, 3: 454}],\n",
       " [{1: 490, 2: 490, 3: 490}],\n",
       " [{1: 423, 2: 423, 3: 423}],\n",
       " [{1: 523, 2: 523, 3: 523}],\n",
       " [{1: 471, 2: 471, 3: 471}],\n",
       " [{1: 448, 2: 448, 3: 448}]]"
      ]
     },
     "execution_count": 114,
     "metadata": {},
     "output_type": "execute_result"
    }
   ],
   "source": [
    "aij"
   ]
  },
  {
   "cell_type": "code",
   "execution_count": 115,
   "id": "a90ea667",
   "metadata": {},
   "outputs": [
    {
     "name": "stdout",
     "output_type": "stream",
     "text": [
      "Data is ready\n"
     ]
    }
   ],
   "source": [
    "print(\"Data is ready\")"
   ]
  },
  {
   "cell_type": "markdown",
   "id": "11a1b449",
   "metadata": {},
   "source": [
    "## Optimization Model"
   ]
  },
  {
   "cell_type": "code",
   "execution_count": 116,
   "id": "c9a70585",
   "metadata": {},
   "outputs": [],
   "source": [
    "import math\n",
    "from pyomo.environ import *\n",
    "import warnings\n",
    "from collections import Counter\n",
    "import matplotlib.pyplot as plt\n",
    "\n",
    "warnings.filterwarnings(\"ignore\")\n",
    "opt = SolverFactory('glpk')"
   ]
  },
  {
   "cell_type": "code",
   "execution_count": 117,
   "id": "492cfa58",
   "metadata": {},
   "outputs": [],
   "source": [
    "class Problem_Model:\n",
    "    def __init__(self, nE, nK, nT, nD):\n",
    "\n",
    "        # Model Object\n",
    "        self.Model = ConcreteModel()\n",
    "\n",
    "        # Model Parameters\n",
    "        self.Model.X = Var(nE, nK, nT, within=NonNegativeReals)\n",
    "        self.Model.D = Var(nD, nK, nT, bounds=(0, np.inf), within=NonNegativeReals)\n",
    "        self.Model.H = Var(nD, nK, nT, bounds=(0, np.inf), within=NonNegativeReals)\n",
    "        self.Model.Q = Var(nD, nK, nT, bounds=(0, np.inf), within=NonNegativeReals)\n",
    "        self.Model.W = Var(nE, nT, bounds=(0, np.inf), within=NonNegativeReals)\n",
    "        self.Model.Y = Var(nE, nT, within=Binary)\n",
    "        self.Model.T2 = Var(nD, nD, nK, nT, bounds=(0, np.inf), within=NonNegativeReals)\n",
    "        \n",
    "    # Function for model variable initialization & variables for objectives\n",
    "    def model_initialization(self, nT, nK, nE, nD, Cijkt):\n",
    "\n",
    "        # For blocked edges (by definition) and some initial pre-defined values\n",
    "        for t in nT:\n",
    "            for k in nK:\n",
    "                for n in nN:\n",
    "                    self.Model.X[int(str(int(n))+str(int(n))), k, t] = 0\n",
    "\n",
    "        for k in nK:\n",
    "            for n in nD:\n",
    "                self.Model.H[n, k, min(nT)] = 0\n",
    "\n",
    "        for t in nT:\n",
    "            for n in nN:\n",
    "                self.Model.W[int(str(int(n))+str(int(n))), t] = 0\n",
    "\n",
    "        for t in nT:\n",
    "            for n in nN:\n",
    "                self.Model.Y[int(str(int(n))+str(int(n))), t] = 0  \n",
    "            \n",
    "        # Min Cost Objective\n",
    "        self.Model.obj_mincost = 0\n",
    "        self.Model.obj_unsatisfied = 0\n",
    "        for t in nT:\n",
    "            for k in nK:\n",
    "                for e in nE:\n",
    "                    self.Model.obj_mincost += Cijkt[t][k][e] * self.Model.X[e, k, t]\n",
    "                    \n",
    "        return self.Model"
   ]
  },
  {
   "cell_type": "code",
   "execution_count": 118,
   "id": "e83c5022",
   "metadata": {},
   "outputs": [],
   "source": [
    "def model_objectives(Model, nD, nT, nK, nN, Sikt, djkt, nS, uijt, edge_dict, aij, bt, alpha):\n",
    "    \n",
    "    # UNSATISFIED DEMAND\n",
    "    cumsum = {}\n",
    "    cumsum_dict = {}\n",
    "    for t in nT:\n",
    "        for k in nK:\n",
    "            for d1 in nD:\n",
    "                if djkt[t][k][d1] > 0:\n",
    "                    cumsum[d1] = djkt[t][k][d1]\n",
    "\n",
    "        cumsum_fin = cumsum.copy()\n",
    "        cumsum_dict[t] = cumsum_fin\n",
    "\n",
    "    satisfied_cumsum = {}\n",
    "    satisfied_cumsum_dict = {}\n",
    "    for t in nT:\n",
    "        for k in nK:\n",
    "            for d1 in nD:\n",
    "                if djkt[t][k][d1] > 0:\n",
    "                    satisfied_cumsum[d1] = Model.Q[d1, k, t]\n",
    "\n",
    "        satisfied_cumsum_fin = satisfied_cumsum.copy()\n",
    "        satisfied_cumsum_dict[t] = satisfied_cumsum_fin\n",
    "\n",
    "    unsatisfied_percentage = 0\n",
    "    cumsum_dict_v2 = {}\n",
    "\n",
    "    for t in nT:\n",
    "        for k in nK:\n",
    "            for d in nD:\n",
    "                if djkt[t][k][d] > 0:\n",
    "\n",
    "                    counter = 0\n",
    "                    if d in cumsum_dict_v2.keys():\n",
    "                        cumsum_dict_v2[d] += cumsum_dict[t][d]\n",
    "                        counter += 1\n",
    "                    else:\n",
    "                        cumsum_dict_v2[d] = cumsum_dict[t][d]\n",
    "                        counter += 1\n",
    "\n",
    "            for key in cumsum_dict_v2.keys():\n",
    "                unsatisfied_percentage += (Model.H[key, k, t] / cumsum_dict_v2[key])\n",
    "\n",
    "            unsatisfied_percentage = (unsatisfied_percentage * math.exp(alpha))\n",
    "            Model.obj_unsatisfied += unsatisfied_percentage\n",
    "            unsatisfied_percentage = 0\n",
    "\n",
    "    return Model"
   ]
  },
  {
   "cell_type": "code",
   "execution_count": 119,
   "id": "f40e5f1e",
   "metadata": {},
   "outputs": [],
   "source": [
    "def model_constraints(Model, nD, nT, nK, nN, Sikt, djkt, nS, uijt, edge_dict, aij, bt, alpha):\n",
    "\n",
    "    into = 0\n",
    "    out = 0\n",
    "    for t in nT:\n",
    "        for k in nK:\n",
    "            for e in nS:  # for all supply nodes\n",
    "                if Sikt[t][k][e] > 0:\n",
    "\n",
    "                    for i in edge_dict.keys():\n",
    "                        if str(i).find(str(e)) == 0:\n",
    "                            into += Model.X[i, k, t]\n",
    "                        if str(i).find(str(e)) > 0:\n",
    "                            out += Model.X[i, k, t]\n",
    "                    Model.constraints.add(into - out == Sikt[t][k][e])\n",
    "                    into = 0\n",
    "                    out = 0\n",
    "\n",
    "    \n",
    "    into = 0\n",
    "    out = 0\n",
    "    for t in nT:\n",
    "        for k in nK:\n",
    "            for e in nD:  # for all demand nodes\n",
    "                if djkt[t][k][e] > 0:\n",
    "                    for i in edge_dict.keys():\n",
    "                        if str(i).find(str(e)) == 0:\n",
    "                            out += Model.X[i, k, t]\n",
    "                        if str(i).find(str(e)) > 0:\n",
    "                            into += Model.X[i, k, t]\n",
    "                    Model.constraints.add(into - out + Model.H[e, k, t] == Model.D[e, k, t])\n",
    "                    into = 0\n",
    "                    out = 0  \n",
    "                        \n",
    "\n",
    "    for t in nT:\n",
    "        for k in nK:\n",
    "            for e in nN:  # for all transition nodes ( neither supply nor demand )\n",
    "                if e not in nD and e not in nS:\n",
    "                    for i in list(edge_dict.keys()):\n",
    "                        if str(i).find(str(e)) == 0:\n",
    "                            out += Model.X[i, k, t]\n",
    "                        if str(i).find(str(e)) > 0:\n",
    "                            into += Model.X[i, k, t]\n",
    "                    Model.constraints.add(into - out == 0)\n",
    "                    into = 0\n",
    "                    out = 0\n",
    "                    \n",
    "\n",
    "    for t in nT:\n",
    "        for k in nK:\n",
    "            for d in nD:\n",
    "                if t == 0:\n",
    "                    Model.constraints.add(Model.D[d, k, t] == djkt[t][k][d])\n",
    "                    Model.constraints.add(Model.H[d, k, t] <= Model.D[d, k, t])\n",
    "                    Model.constraints.add(Model.Q[d, k, t] == Model.D[d, k, t] - Model.H[d, k, t])\n",
    "                else:\n",
    "                    Model.constraints.add(Model.D[d, k, t] == Model.H[d, k, t - 1] + djkt[t][k][d])\n",
    "                    Model.constraints.add(Model.H[d, k, t] <= Model.D[d, k, t])\n",
    "                    Model.constraints.add(Model.Q[d, k, t] == Model.D[d, k, t] - Model.H[d, k, t])\n",
    "     \n",
    "                    \n",
    "    for t in nT:\n",
    "        for edge in list(edge_dict.keys()):\n",
    "            if edge not in [11,22,33]:\n",
    "                Model.constraints.add(sum(Model.X[int(edge), k, t] for k in nK) <= uijt[t][edge])\n",
    "           \n",
    "    \n",
    "    for t in nT:\n",
    "        for edge in list(edge_dict.keys()):\n",
    "            if edge in [11,22,33]:\n",
    "                Model.constraints.add(sum(Model.X[int(edge), k, t] for k in nK) <= uijt[t][edge] * Model.Y[int(edge), t])\n",
    "\n",
    "    \n",
    "    for t in nT:\n",
    "        Model.constraints.add(\n",
    "            sum(Model.W[int(str(o) + str(d)), t] for (o, d) in zip(nS, nD)) <= bt[t])\n",
    "\n",
    "\n",
    "    for t in nT:\n",
    "        nT2 = RangeSet(0, t)\n",
    "        for edge in list(edge_dict.keys()):\n",
    "            if edge in [11,22,33]:\n",
    "                Model.constraints.add(sum(Model.W[edge, t2] for t2 in nT2) >= aij[t][0][int(str(edge)[:1])] * Model.Y[edge, t])\n",
    "\n",
    "    \n",
    "    for t in nT:\n",
    "        for k in nK:\n",
    "            for edge in list(edge_dict.keys()):\n",
    "                if edge in [11,22,33]:\n",
    "                    \n",
    "                    if int(str(edge)[1:]) in nD:\n",
    "                        Model.constraints.add(Model.D[int(str(edge)[1:]), k, t] >= 0)\n",
    "                        Model.constraints.add(Model.H[int(str(edge)[1:]), k, t] >= 0)\n",
    "                        Model.constraints.add(Model.X[edge, k, t] >= 0)\n",
    "        \n",
    "    for t in nT:\n",
    "        for k in nK:\n",
    "            for n in nD:\n",
    "                Model.constraints.add(Model.Q[n, k, t] >= 0)\n",
    "\n",
    "    return Model"
   ]
  },
  {
   "cell_type": "markdown",
   "id": "e65909cf",
   "metadata": {},
   "source": [
    "### Unscaled Min Cost Results"
   ]
  },
  {
   "cell_type": "code",
   "execution_count": 120,
   "id": "81914875",
   "metadata": {},
   "outputs": [],
   "source": [
    "min_cost_results = []\n",
    "min_unsatisfied_results = []"
   ]
  },
  {
   "cell_type": "code",
   "execution_count": 121,
   "id": "db318849",
   "metadata": {},
   "outputs": [],
   "source": [
    "Target_Model = Problem_Model(nE, nK, nT, nD)\n",
    "Target_Model = Target_Model.model_initialization(nT, nK, nE, nD, Cijkt)\n",
    "Target_Model.constraints = ConstraintList()\n",
    "\n",
    "Target_Model = model_objectives(Target_Model, nD, nT, nK, nN, Sikt, \n",
    "                                djkt, nS, uijt, edge_dict, aij, bt, alpha=0.3)\n",
    "Target_Model = model_constraints(Target_Model, nD, nT, nK, nN, \n",
    "                                 Sikt, djkt, nS, uijt, edge_dict, \n",
    "                                 aij, bt, alpha=0.3)\n",
    "\n",
    "Target_Model.obj = Objective(expr=((Target_Model.obj_mincost + Target_Model.obj_unsatisfied * 0.001)), \n",
    "                             sense=1)\n",
    "\n",
    "Model_solution = opt.solve(Target_Model)"
   ]
  },
  {
   "cell_type": "code",
   "execution_count": 122,
   "id": "bd9acefe",
   "metadata": {},
   "outputs": [
    {
     "name": "stdout",
     "output_type": "stream",
     "text": [
      "\n",
      "Problem: \n",
      "- Name: unknown\n",
      "  Lower bound: -inf\n",
      "  Upper bound: inf\n",
      "  Number of objectives: 1\n",
      "  Number of constraints: 210\n",
      "  Number of variables: 154\n",
      "  Number of nonzeros: 460\n",
      "  Sense: minimize\n",
      "Solver: \n",
      "- Status: ok\n",
      "  Termination condition: infeasible\n",
      "  Statistics: \n",
      "    Branch and bound: \n",
      "      Number of bounded subproblems: 0\n",
      "      Number of created subproblems: 0\n",
      "  Error rc: 0\n",
      "  Time: 0.009371042251586914\n",
      "\n"
     ]
    }
   ],
   "source": [
    "print(Model_solution)"
   ]
  },
  {
   "cell_type": "code",
   "execution_count": 84,
   "id": "9af5083f",
   "metadata": {
    "collapsed": true
   },
   "outputs": [
    {
     "name": "stdout",
     "output_type": "stream",
     "text": [
      "ERROR: evaluating object as numeric value: X[12,0,0]\n",
      "        (object: <class 'pyomo.core.base.var._GeneralVarData'>)\n",
      "    No value for uninitialized NumericValue object X[12,0,0]\n"
     ]
    },
    {
     "ename": "ValueError",
     "evalue": "No value for uninitialized NumericValue object X[12,0,0]",
     "output_type": "error",
     "traceback": [
      "\u001b[0;31m---------------------------------------------------------------------------\u001b[0m",
      "\u001b[0;31mValueError\u001b[0m                                Traceback (most recent call last)",
      "Cell \u001b[0;32mIn[84], line 1\u001b[0m\n\u001b[0;32m----> 1\u001b[0m min_cost_results\u001b[38;5;241m.\u001b[39mappend(\u001b[43mTarget_Model\u001b[49m\u001b[38;5;241;43m.\u001b[39;49m\u001b[43mobj_mincost\u001b[49m\u001b[43m(\u001b[49m\u001b[43m)\u001b[49m)\n\u001b[1;32m      2\u001b[0m min_unsatisfied_results\u001b[38;5;241m.\u001b[39mappend(Target_Model\u001b[38;5;241m.\u001b[39mobj_unsatisfied())\n",
      "File \u001b[0;32m/opt/homebrew/lib/python3.11/site-packages/pyomo/core/expr/base.py:118\u001b[0m, in \u001b[0;36mExpressionBase.__call__\u001b[0;34m(self, exception)\u001b[0m\n\u001b[1;32m    103\u001b[0m \u001b[38;5;28;01mdef\u001b[39;00m \u001b[38;5;21m__call__\u001b[39m(\u001b[38;5;28mself\u001b[39m, exception\u001b[38;5;241m=\u001b[39m\u001b[38;5;28;01mTrue\u001b[39;00m):\n\u001b[1;32m    104\u001b[0m \u001b[38;5;250m    \u001b[39m\u001b[38;5;124;03m\"\"\"Evaluate the value of the expression tree.\u001b[39;00m\n\u001b[1;32m    105\u001b[0m \n\u001b[1;32m    106\u001b[0m \u001b[38;5;124;03m    Parameters\u001b[39;00m\n\u001b[0;32m   (...)\u001b[0m\n\u001b[1;32m    116\u001b[0m \n\u001b[1;32m    117\u001b[0m \u001b[38;5;124;03m    \"\"\"\u001b[39;00m\n\u001b[0;32m--> 118\u001b[0m     \u001b[38;5;28;01mreturn\u001b[39;00m \u001b[43mvisitor\u001b[49m\u001b[38;5;241;43m.\u001b[39;49m\u001b[43mevaluate_expression\u001b[49m\u001b[43m(\u001b[49m\u001b[38;5;28;43mself\u001b[39;49m\u001b[43m,\u001b[49m\u001b[43m \u001b[49m\u001b[43mexception\u001b[49m\u001b[43m)\u001b[49m\n",
      "File \u001b[0;32m/opt/homebrew/lib/python3.11/site-packages/pyomo/core/expr/visitor.py:1283\u001b[0m, in \u001b[0;36mevaluate_expression\u001b[0;34m(exp, exception, constant)\u001b[0m\n\u001b[1;32m   1280\u001b[0m         clear_active \u001b[38;5;241m=\u001b[39m \u001b[38;5;28;01mTrue\u001b[39;00m\n\u001b[1;32m   1282\u001b[0m \u001b[38;5;28;01mtry\u001b[39;00m:\n\u001b[0;32m-> 1283\u001b[0m     ans \u001b[38;5;241m=\u001b[39m \u001b[43mvisitor\u001b[49m\u001b[38;5;241;43m.\u001b[39;49m\u001b[43mdfs_postorder_stack\u001b[49m\u001b[43m(\u001b[49m\u001b[43mexp\u001b[49m\u001b[43m)\u001b[49m\n\u001b[1;32m   1284\u001b[0m \u001b[38;5;28;01mexcept\u001b[39;00m (\n\u001b[1;32m   1285\u001b[0m     TemplateExpressionError,\n\u001b[1;32m   1286\u001b[0m     \u001b[38;5;167;01mValueError\u001b[39;00m,\n\u001b[0;32m   (...)\u001b[0m\n\u001b[1;32m   1299\u001b[0m     \u001b[38;5;66;03m#   TypeError: This can be raised in Python3 when evaluating a\u001b[39;00m\n\u001b[1;32m   1300\u001b[0m     \u001b[38;5;66;03m#      operation returns a complex number (e.g., sqrt(-1))\u001b[39;00m\n\u001b[1;32m   1301\u001b[0m     \u001b[38;5;28;01mif\u001b[39;00m exception:\n",
      "File \u001b[0;32m/opt/homebrew/lib/python3.11/site-packages/pyomo/core/expr/visitor.py:906\u001b[0m, in \u001b[0;36mExpressionValueVisitor.dfs_postorder_stack\u001b[0;34m(self, node)\u001b[0m\n\u001b[1;32m    904\u001b[0m _sub \u001b[38;5;241m=\u001b[39m _argList[_idx]\n\u001b[1;32m    905\u001b[0m _idx \u001b[38;5;241m+\u001b[39m\u001b[38;5;241m=\u001b[39m \u001b[38;5;241m1\u001b[39m\n\u001b[0;32m--> 906\u001b[0m flag, value \u001b[38;5;241m=\u001b[39m \u001b[38;5;28;43mself\u001b[39;49m\u001b[38;5;241;43m.\u001b[39;49m\u001b[43mvisiting_potential_leaf\u001b[49m\u001b[43m(\u001b[49m\u001b[43m_sub\u001b[49m\u001b[43m)\u001b[49m\n\u001b[1;32m    907\u001b[0m \u001b[38;5;28;01mif\u001b[39;00m flag:\n\u001b[1;32m    908\u001b[0m     _result\u001b[38;5;241m.\u001b[39mappend(value)\n",
      "File \u001b[0;32m/opt/homebrew/lib/python3.11/site-packages/pyomo/core/expr/visitor.py:1188\u001b[0m, in \u001b[0;36m_EvaluationVisitor.visiting_potential_leaf\u001b[0;34m(self, node)\u001b[0m\n\u001b[1;32m   1185\u001b[0m     \u001b[38;5;28;01mreturn\u001b[39;00m \u001b[38;5;28;01mFalse\u001b[39;00m, \u001b[38;5;28;01mNone\u001b[39;00m\n\u001b[1;32m   1187\u001b[0m \u001b[38;5;28;01mif\u001b[39;00m node\u001b[38;5;241m.\u001b[39mis_numeric_type():\n\u001b[0;32m-> 1188\u001b[0m     \u001b[38;5;28;01mreturn\u001b[39;00m \u001b[38;5;28;01mTrue\u001b[39;00m, \u001b[43mvalue\u001b[49m\u001b[43m(\u001b[49m\u001b[43mnode\u001b[49m\u001b[43m,\u001b[49m\u001b[43m \u001b[49m\u001b[43mexception\u001b[49m\u001b[38;5;241;43m=\u001b[39;49m\u001b[38;5;28;43mself\u001b[39;49m\u001b[38;5;241;43m.\u001b[39;49m\u001b[43mexception\u001b[49m\u001b[43m)\u001b[49m\n\u001b[1;32m   1189\u001b[0m \u001b[38;5;28;01melif\u001b[39;00m node\u001b[38;5;241m.\u001b[39mis_logical_type():\n\u001b[1;32m   1190\u001b[0m     \u001b[38;5;28;01mreturn\u001b[39;00m \u001b[38;5;28;01mTrue\u001b[39;00m, value(node, exception\u001b[38;5;241m=\u001b[39m\u001b[38;5;28mself\u001b[39m\u001b[38;5;241m.\u001b[39mexception)\n",
      "File \u001b[0;32m/opt/homebrew/lib/python3.11/site-packages/pyomo/common/numeric_types.py:247\u001b[0m, in \u001b[0;36mvalue\u001b[0;34m(obj, exception)\u001b[0m\n\u001b[1;32m    245\u001b[0m     tmp \u001b[38;5;241m=\u001b[39m obj(exception\u001b[38;5;241m=\u001b[39m\u001b[38;5;28;01mTrue\u001b[39;00m)\n\u001b[1;32m    246\u001b[0m     \u001b[38;5;28;01mif\u001b[39;00m tmp \u001b[38;5;129;01mis\u001b[39;00m \u001b[38;5;28;01mNone\u001b[39;00m:\n\u001b[0;32m--> 247\u001b[0m         \u001b[38;5;28;01mraise\u001b[39;00m \u001b[38;5;167;01mValueError\u001b[39;00m(\n\u001b[1;32m    248\u001b[0m             \u001b[38;5;124m\"\u001b[39m\u001b[38;5;124mNo value for uninitialized NumericValue object \u001b[39m\u001b[38;5;132;01m%s\u001b[39;00m\u001b[38;5;124m\"\u001b[39m \u001b[38;5;241m%\u001b[39m (obj\u001b[38;5;241m.\u001b[39mname,)\n\u001b[1;32m    249\u001b[0m         )\n\u001b[1;32m    250\u001b[0m     \u001b[38;5;28;01mreturn\u001b[39;00m tmp\n\u001b[1;32m    251\u001b[0m \u001b[38;5;28;01mexcept\u001b[39;00m TemplateExpressionError:\n\u001b[1;32m    252\u001b[0m     \u001b[38;5;66;03m# Template expressions work by catching this error type. So\u001b[39;00m\n\u001b[1;32m    253\u001b[0m     \u001b[38;5;66;03m# we should defer this error handling and not log an error\u001b[39;00m\n\u001b[1;32m    254\u001b[0m     \u001b[38;5;66;03m# message.\u001b[39;00m\n",
      "\u001b[0;31mValueError\u001b[0m: No value for uninitialized NumericValue object X[12,0,0]"
     ]
    }
   ],
   "source": [
    "min_cost_results.append(Target_Model.obj_mincost())\n",
    "min_unsatisfied_results.append(Target_Model.obj_unsatisfied())"
   ]
  },
  {
   "cell_type": "code",
   "execution_count": 85,
   "id": "c70e7c42",
   "metadata": {},
   "outputs": [
    {
     "data": {
      "text/plain": [
       "([], [])"
      ]
     },
     "execution_count": 85,
     "metadata": {},
     "output_type": "execute_result"
    }
   ],
   "source": [
    "min_cost_results, min_unsatisfied_results"
   ]
  },
  {
   "cell_type": "code",
   "execution_count": 41,
   "id": "40b87735",
   "metadata": {},
   "outputs": [],
   "source": [
    "def excel_writer(nT, nK, nS, djkt, Model):\n",
    "    data = {}\n",
    "    demandnodes = []\n",
    "    for i in nT:\n",
    "        for j in nK:\n",
    "            for key, value in djkt[i][j].items():\n",
    "                if value != 0:\n",
    "                    if key not in demandnodes:\n",
    "                        demandnodes.append(key)\n",
    "    df = pd.DataFrame(data)\n",
    "    df[\"\"] = demandnodes\n",
    "\n",
    "    alpha = 0.3\n",
    "\n",
    "    for i in nT:\n",
    "        for j in nK:\n",
    "\n",
    "            djktlist = []\n",
    "            Dlist = []\n",
    "            percentage = []\n",
    "            Hlist = []\n",
    "            QList = []\n",
    "            discount = []\n",
    "\n",
    "            for key, value in djkt[i][j].items():\n",
    "                if key in demandnodes:\n",
    "                    djktlist.append(value)\n",
    "            for (key, value), (key2, value2), (key3, value3) in zip(Model.D.get_values().items(), Model.H.get_values().items(), Model.Q.get_values().items()):\n",
    "                if key[0] in demandnodes and key[0] == key2[0] and j == key[1] and i == key[2] and key[0] == key3[0]:\n",
    "                    Dlist.append(value)  # demand obtained in this period\n",
    "                    Hlist.append(value2)\n",
    "                    QList.append(value3)\n",
    "                    discount.append(math.exp((alpha)))\n",
    "\n",
    "            df[\"djkt(C\" + str(j + 1) + \"T\" + str(i + 1) + \")\"] = djktlist\n",
    "            df[\"Djkt(C\" + str(j + 1) + \"T\" + str(i + 1) + \")\"] = Dlist\n",
    "            df[\"Hjkt(C\" + str(j + 1) + \"T\" + str(i + 1) + \")\"] = Hlist\n",
    "            df[\"Satisfied demand\" + \"(C\" + str(j + 1) + \"T\" + str(i + 1) + \")\"] = QList\n",
    "\n",
    "            for m in range(len(djktlist)):\n",
    "                percentage.append((QList[m] / Dlist[m] * 100))\n",
    "\n",
    "    df.set_index('', drop=True, inplace=True)\n",
    "    \n",
    "    return df"
   ]
  },
  {
   "cell_type": "markdown",
   "id": "6e67c231",
   "metadata": {},
   "source": [
    "### Unscaled Min Unsatisfied Demand"
   ]
  },
  {
   "cell_type": "code",
   "execution_count": 42,
   "id": "e32a2410",
   "metadata": {},
   "outputs": [],
   "source": [
    "Target_Model = Problem_Model(nE, nK, nT, nD)\n",
    "Target_Model = Target_Model.model_initialization(nT, nK, nE, nD, Cijkt)\n",
    "Target_Model.constraints = ConstraintList()\n",
    "Target_Model = model_objectives(Target_Model, nD, nT, nK, nN, Sikt, \n",
    "                                djkt, nS, uijt, edge_dict, aij, bt, alpha=0.3)\n",
    "Target_Model = model_constraints(Target_Model, nD, nT, nK, nN, \n",
    "                                 Sikt, djkt, nS, uijt, edge_dict, \n",
    "                                 aij, bt, alpha=0.3)\n",
    "Target_Model.obj = Objective(expr=(Target_Model.obj_unsatisfied + Target_Model.obj_mincost * 0.00001), \n",
    "                             sense=1)\n",
    "Model_solution = opt.solve(Target_Model)"
   ]
  },
  {
   "cell_type": "code",
   "execution_count": 43,
   "id": "a8736f6e",
   "metadata": {},
   "outputs": [
    {
     "name": "stdout",
     "output_type": "stream",
     "text": [
      "\n",
      "Problem: \n",
      "- Name: unknown\n",
      "  Lower bound: 14.2187796584793\n",
      "  Upper bound: 14.2187796584793\n",
      "  Number of objectives: 1\n",
      "  Number of constraints: 210\n",
      "  Number of variables: 154\n",
      "  Number of nonzeros: 460\n",
      "  Sense: minimize\n",
      "Solver: \n",
      "- Status: ok\n",
      "  Termination condition: optimal\n",
      "  Statistics: \n",
      "    Branch and bound: \n",
      "      Number of bounded subproblems: 1\n",
      "      Number of created subproblems: 1\n",
      "  Error rc: 0\n",
      "  Time: 0.006187915802001953\n",
      "Solution: \n",
      "- number of solutions: 0\n",
      "  number of solutions displayed: 0\n",
      "\n"
     ]
    }
   ],
   "source": [
    "print(Model_solution)"
   ]
  },
  {
   "cell_type": "code",
   "execution_count": 44,
   "id": "af4d517b",
   "metadata": {},
   "outputs": [],
   "source": [
    "min_cost_result_df = excel_writer(nT, nK, nS, djkt, Target_Model)\n",
    "writer = pd.ExcelWriter(f'output_obj_trials.xlsx', engine='xlsxwriter')\n",
    "min_cost_result_df.to_excel(writer, sheet_name=f\"Only Min Cost\")\n",
    "\n",
    "min_unsatisfied_result_df = excel_writer(nT, nK, nS, djkt, Target_Model)\n",
    "min_unsatisfied_result_df.to_excel(writer, sheet_name=f\"Only Min Unsatisfied Demand\")\n",
    "writer.close()"
   ]
  },
  {
   "cell_type": "code",
   "execution_count": 45,
   "id": "67873629",
   "metadata": {},
   "outputs": [],
   "source": [
    "min_cost_results.append(Target_Model.obj_mincost())\n",
    "min_unsatisfied_results.append(Target_Model.obj_unsatisfied())"
   ]
  },
  {
   "cell_type": "code",
   "execution_count": 46,
   "id": "4c2abe1e",
   "metadata": {},
   "outputs": [
    {
     "data": {
      "text/plain": [
       "([225.0, 900.0], [17.063929434183, 14.209779658479315])"
      ]
     },
     "execution_count": 46,
     "metadata": {},
     "output_type": "execute_result"
    }
   ],
   "source": [
    "min_cost_results, min_unsatisfied_results"
   ]
  },
  {
   "cell_type": "code",
   "execution_count": null,
   "id": "aaf12785",
   "metadata": {},
   "outputs": [],
   "source": []
  },
  {
   "cell_type": "code",
   "execution_count": null,
   "id": "9a56ef15",
   "metadata": {},
   "outputs": [],
   "source": []
  },
  {
   "cell_type": "markdown",
   "id": "8a20252c",
   "metadata": {},
   "source": [
    "### Scaled Problem"
   ]
  },
  {
   "cell_type": "code",
   "execution_count": null,
   "id": "2de93267",
   "metadata": {},
   "outputs": [],
   "source": [
    "min_cost_result_df_scaled = []\n",
    "min_unsatisfied_result_df_scaled = []"
   ]
  },
  {
   "cell_type": "code",
   "execution_count": null,
   "id": "9eb7ee03",
   "metadata": {},
   "outputs": [],
   "source": [
    "def scaling(min_cost_results,  min_unsatisfied_results):\n",
    "\n",
    "    max1 = np.max(min_cost_results)\n",
    "    min1 = np.min(min_cost_results)\n",
    "    max4 = np.max(min_unsatisfied_results)\n",
    "    min4 = np.min(min_unsatisfied_results)\n",
    "\n",
    "    scaling_factor_mincost = 1 / (max1 - min1)\n",
    "    scaling_factor_unsatisfied = 1 / (max4 - min4)\n",
    "\n",
    "    return min1, min4, scaling_factor_mincost, scaling_factor_unsatisfied"
   ]
  },
  {
   "cell_type": "code",
   "execution_count": null,
   "id": "22c0f45d",
   "metadata": {},
   "outputs": [],
   "source": [
    "min1, min4, scaling_factor_mincost, scaling_factor_unsatisfied = scaling(min_cost_results, \n",
    "                                                                         min_unsatisfied_results)"
   ]
  },
  {
   "cell_type": "code",
   "execution_count": null,
   "id": "8a2f5b73",
   "metadata": {},
   "outputs": [],
   "source": [
    "Target_Model = Problem_Model(nE, nK, nT, nD)\n",
    "Target_Model = Target_Model.model_initialization(nT, nK, nE, nD, Cijkt)\n",
    "Target_Model.constraints = ConstraintList()\n",
    "Target_Model = model_objectives(Target_Model, nD, nT, nK, nN, Sikt, \n",
    "                                djkt, nS, uijt, edge_dict, aij, bt, alpha=0.3)\n",
    "Target_Model = model_constraints(Target_Model, nD, nT, nK, nN, \n",
    "                                 Sikt, djkt, nS, uijt, edge_dict, \n",
    "                                 aij, bt, alpha=0.3)\n",
    "\n",
    "Target_Model.obj = Objective(expr=(((Target_Model.obj_mincost - min1) * scaling_factor_mincost)),\n",
    "                              sense=1)  # min cost\n",
    "\n",
    "Model_solution = opt.solve(Target_Model)"
   ]
  },
  {
   "cell_type": "code",
   "execution_count": null,
   "id": "6c832d6a",
   "metadata": {},
   "outputs": [],
   "source": [
    "print(Model_solution)"
   ]
  },
  {
   "cell_type": "code",
   "execution_count": null,
   "id": "a8624239",
   "metadata": {},
   "outputs": [],
   "source": [
    "min_cost_result_df_scaled.append((Target_Model.obj_mincost() - min1) * scaling_factor_mincost)\n",
    "min_unsatisfied_result_df_scaled.append((Target_Model.obj_unsatisfied() - min4) * scaling_factor_unsatisfied)"
   ]
  },
  {
   "cell_type": "code",
   "execution_count": null,
   "id": "6894428b",
   "metadata": {},
   "outputs": [],
   "source": [
    "Target_Model = Problem_Model(nE, nK, nT, nD)\n",
    "Target_Model = Target_Model.model_initialization(nT, nK, nE, nD, Cijkt)\n",
    "Target_Model.constraints = ConstraintList()\n",
    "Target_Model = model_objectives(Target_Model, nD, nT, nK, nN, Sikt, \n",
    "                                djkt, nS, uijt, edge_dict, aij, bt, alpha=0.3)\n",
    "Target_Model = model_constraints(Target_Model, nD, nT, nK, nN, \n",
    "                                 Sikt, djkt, nS, uijt, edge_dict, \n",
    "                                 aij, bt, alpha=0.3)\n",
    "\n",
    "Target_Model.obj = Objective(expr=(((Target_Model.obj_mincost - min1) * 0.001 * scaling_factor_mincost)),\n",
    "                              sense=1)  # min unsatisfied demand\n",
    "\n",
    "Model_solution = opt.solve(Target_Model)"
   ]
  },
  {
   "cell_type": "code",
   "execution_count": null,
   "id": "ba5fdb02",
   "metadata": {},
   "outputs": [],
   "source": [
    "print(Model_solution)"
   ]
  },
  {
   "cell_type": "code",
   "execution_count": null,
   "id": "8ac3d53d",
   "metadata": {},
   "outputs": [],
   "source": [
    "min_cost_result_df_scaled.append((Target_Model.obj_mincost() - min1) * scaling_factor_mincost)\n",
    "min_unsatisfied_result_df_scaled.append((Target_Model.obj_unsatisfied() - min4) * scaling_factor_unsatisfied)"
   ]
  },
  {
   "cell_type": "code",
   "execution_count": null,
   "id": "c0c505f4",
   "metadata": {},
   "outputs": [],
   "source": [
    "min_cost_result_df_scaled, min_unsatisfied_result_df_scaled"
   ]
  },
  {
   "cell_type": "code",
   "execution_count": null,
   "id": "9803d9c5",
   "metadata": {},
   "outputs": [],
   "source": [
    "min_cost_result_df_scaled = excel_writer(nT, nK, nS, djkt, Target_Model)\n",
    "writer = pd.ExcelWriter(f'output_obj_trials_scaled.xlsx', engine='xlsxwriter')\n",
    "min_cost_result_df_scaled.to_excel(writer, sheet_name=f\"Only Min Cost SC\")\n",
    "\n",
    "min_unsatisfied_result_df_scaled = excel_writer(nT, nK, nS, djkt, Target_Model)\n",
    "min_unsatisfied_result_df_scaled.to_excel(writer, sheet_name=f\"Only Min Unsatisfied Demand SC\")\n",
    "writer.close()"
   ]
  },
  {
   "cell_type": "code",
   "execution_count": null,
   "id": "4d82274e",
   "metadata": {},
   "outputs": [],
   "source": [
    "min_unsatisfied_result_df"
   ]
  },
  {
   "cell_type": "markdown",
   "id": "c3c672c9",
   "metadata": {},
   "source": [
    "### Questions and TODOs"
   ]
  },
  {
   "cell_type": "markdown",
   "id": "236152ce",
   "metadata": {},
   "source": [
    "1. Yolların şu an hepsi açık (random kapatabiliyorum). Hangisi kapanacak? \n",
    "\n",
    "2. Supply & Demand değerlerini integer istiyor model, ancak yuvarlayınca demandler son period'lara doğru hep aynı değerlere yuvarlanıyor (logarithmic increase). Bu yüzden veri son günlere gelince çok sabit kalıyor. Bunun böyle olması uygun mu?\n",
    "\n",
    "3. Aynı veri seti çok küçük supply & demand değerleriyle çalışıyor (eski örnek) ancak sayılar büyüyünce çalışmıyor? Bu mümkün mü?\n",
    "\n",
    "4. Geçen hafta bir süre bazı objektifleri kombine edince aynı sonucu aldım (şu an öyle bir durum yok) bu hangi durumlarda mümkün olabilir?\n",
    "\n",
    "5. Bizim modelimizin ana objektifi min unsatisfied demand + min cost * 0.00001 mi olacak, yoksa çeşitli kombinasyonları mı deneyeceğiz farklı case'ler olarak?"
   ]
  },
  {
   "cell_type": "code",
   "execution_count": null,
   "id": "f4a7a8ce",
   "metadata": {},
   "outputs": [],
   "source": []
  },
  {
   "cell_type": "code",
   "execution_count": null,
   "id": "0489ff4e",
   "metadata": {},
   "outputs": [],
   "source": []
  }
 ],
 "metadata": {
  "kernelspec": {
   "display_name": "Python 3 (ipykernel)",
   "language": "python",
   "name": "python3"
  },
  "language_info": {
   "codemirror_mode": {
    "name": "ipython",
    "version": 3
   },
   "file_extension": ".py",
   "mimetype": "text/x-python",
   "name": "python",
   "nbconvert_exporter": "python",
   "pygments_lexer": "ipython3",
   "version": "3.11.4"
  }
 },
 "nbformat": 4,
 "nbformat_minor": 5
}
